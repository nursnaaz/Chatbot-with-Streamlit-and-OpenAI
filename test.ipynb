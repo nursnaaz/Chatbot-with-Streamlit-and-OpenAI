{
 "cells": [
  {
   "cell_type": "code",
   "execution_count": 3,
   "id": "5dba6b88-18ad-4d7b-9aee-23fb4b2b03a8",
   "metadata": {},
   "outputs": [],
   "source": [
    "import streamlit as st\n",
    "\n",
    "def ask_bot(user_input):\n",
    "    return \"this is the bot output\"\n",
    "    \n",
    "def app():\n",
    "    # Add a title to your app\n",
    "    st.title(\"Your Bot App\")\n",
    "\n",
    "    # Add a text input field for the user to input their question\n",
    "    user_input = st.text_input(\"Ask me anything\")\n",
    "\n",
    "    # Add a button to submit the question\n",
    "    if st.button(\"Ask\"):\n",
    "        # Use your ask_bot function to get the bot's response\n",
    "        bot_response = ask_bot(user_input)\n",
    "\n",
    "        # Add the bot's response to the scrolling text box\n",
    "        output = st.text_area(\"Bot's responses\", key=\"output\", height=300)\n",
    "\n",
    "        # Append the new response to the existing output\n",
    "        output += \"You: \" + user_input + \"\\n\"\n",
    "        output += \"Bot: \" + bot_response + \"\\n\"\n",
    "        st.text(output)\n",
    "        \n",
    "        \n",
    "if __name__ == \"__main__\":\n",
    "    app()"
   ]
  },
  {
   "cell_type": "code",
   "execution_count": 5,
   "id": "e6f13a5d-4609-4588-81a9-d6cc2d9fdbea",
   "metadata": {},
   "outputs": [
    {
     "name": "stdout",
     "output_type": "stream",
     "text": [
      "Requirement already satisfied: streamlit-chat in /Users/mohamednoordeenalaudeen/opt/anaconda3/lib/python3.9/site-packages (0.0.2.2)\n",
      "Requirement already satisfied: streamlit>=0.63 in /Users/mohamednoordeenalaudeen/opt/anaconda3/lib/python3.9/site-packages (from streamlit-chat) (1.20.0)\n",
      "Requirement already satisfied: pympler>=0.9 in /Users/mohamednoordeenalaudeen/opt/anaconda3/lib/python3.9/site-packages (from streamlit>=0.63->streamlit-chat) (1.0.1)\n",
      "Requirement already satisfied: cachetools>=4.0 in /Users/mohamednoordeenalaudeen/opt/anaconda3/lib/python3.9/site-packages (from streamlit>=0.63->streamlit-chat) (5.3.0)\n",
      "Requirement already satisfied: tzlocal>=1.1 in /Users/mohamednoordeenalaudeen/opt/anaconda3/lib/python3.9/site-packages (from streamlit>=0.63->streamlit-chat) (4.3)\n",
      "Requirement already satisfied: pyarrow>=4.0 in /Users/mohamednoordeenalaudeen/opt/anaconda3/lib/python3.9/site-packages (from streamlit>=0.63->streamlit-chat) (11.0.0)\n",
      "Requirement already satisfied: altair<5,>=3.2.0 in /Users/mohamednoordeenalaudeen/opt/anaconda3/lib/python3.9/site-packages (from streamlit>=0.63->streamlit-chat) (4.2.2)\n",
      "Requirement already satisfied: blinker>=1.0.0 in /Users/mohamednoordeenalaudeen/opt/anaconda3/lib/python3.9/site-packages (from streamlit>=0.63->streamlit-chat) (1.5)\n",
      "Requirement already satisfied: packaging>=14.1 in /Users/mohamednoordeenalaudeen/opt/anaconda3/lib/python3.9/site-packages (from streamlit>=0.63->streamlit-chat) (21.3)\n",
      "Requirement already satisfied: rich>=10.11.0 in /Users/mohamednoordeenalaudeen/opt/anaconda3/lib/python3.9/site-packages (from streamlit>=0.63->streamlit-chat) (13.3.2)\n",
      "Requirement already satisfied: pillow>=6.2.0 in /Users/mohamednoordeenalaudeen/opt/anaconda3/lib/python3.9/site-packages (from streamlit>=0.63->streamlit-chat) (9.2.0)\n",
      "Requirement already satisfied: python-dateutil in /Users/mohamednoordeenalaudeen/opt/anaconda3/lib/python3.9/site-packages (from streamlit>=0.63->streamlit-chat) (2.8.2)\n",
      "Requirement already satisfied: semver in /Users/mohamednoordeenalaudeen/opt/anaconda3/lib/python3.9/site-packages (from streamlit>=0.63->streamlit-chat) (2.13.0)\n",
      "Requirement already satisfied: toml in /Users/mohamednoordeenalaudeen/opt/anaconda3/lib/python3.9/site-packages (from streamlit>=0.63->streamlit-chat) (0.10.2)\n",
      "Requirement already satisfied: tornado>=6.0.3 in /Users/mohamednoordeenalaudeen/opt/anaconda3/lib/python3.9/site-packages (from streamlit>=0.63->streamlit-chat) (6.1)\n",
      "Requirement already satisfied: click>=7.0 in /Users/mohamednoordeenalaudeen/opt/anaconda3/lib/python3.9/site-packages (from streamlit>=0.63->streamlit-chat) (8.0.4)\n",
      "Requirement already satisfied: importlib-metadata>=1.4 in /Users/mohamednoordeenalaudeen/opt/anaconda3/lib/python3.9/site-packages (from streamlit>=0.63->streamlit-chat) (4.11.3)\n",
      "Requirement already satisfied: requests>=2.4 in /Users/mohamednoordeenalaudeen/opt/anaconda3/lib/python3.9/site-packages (from streamlit>=0.63->streamlit-chat) (2.28.1)\n",
      "Requirement already satisfied: gitpython!=3.1.19 in /Users/mohamednoordeenalaudeen/opt/anaconda3/lib/python3.9/site-packages (from streamlit>=0.63->streamlit-chat) (3.1.31)\n",
      "Requirement already satisfied: numpy in /Users/mohamednoordeenalaudeen/opt/anaconda3/lib/python3.9/site-packages (from streamlit>=0.63->streamlit-chat) (1.21.5)\n",
      "Requirement already satisfied: pandas<2,>=0.25 in /Users/mohamednoordeenalaudeen/opt/anaconda3/lib/python3.9/site-packages (from streamlit>=0.63->streamlit-chat) (1.4.4)\n",
      "Requirement already satisfied: protobuf<4,>=3.12 in /Users/mohamednoordeenalaudeen/opt/anaconda3/lib/python3.9/site-packages (from streamlit>=0.63->streamlit-chat) (3.20.3)\n",
      "Requirement already satisfied: pydeck>=0.1.dev5 in /Users/mohamednoordeenalaudeen/opt/anaconda3/lib/python3.9/site-packages (from streamlit>=0.63->streamlit-chat) (0.8.0)\n",
      "Requirement already satisfied: typing-extensions>=3.10.0.0 in /Users/mohamednoordeenalaudeen/opt/anaconda3/lib/python3.9/site-packages (from streamlit>=0.63->streamlit-chat) (4.3.0)\n",
      "Requirement already satisfied: validators>=0.2 in /Users/mohamednoordeenalaudeen/opt/anaconda3/lib/python3.9/site-packages (from streamlit>=0.63->streamlit-chat) (0.20.0)\n",
      "Requirement already satisfied: jsonschema>=3.0 in /Users/mohamednoordeenalaudeen/opt/anaconda3/lib/python3.9/site-packages (from altair<5,>=3.2.0->streamlit>=0.63->streamlit-chat) (4.16.0)\n",
      "Requirement already satisfied: entrypoints in /Users/mohamednoordeenalaudeen/opt/anaconda3/lib/python3.9/site-packages (from altair<5,>=3.2.0->streamlit>=0.63->streamlit-chat) (0.4)\n",
      "Requirement already satisfied: jinja2 in /Users/mohamednoordeenalaudeen/opt/anaconda3/lib/python3.9/site-packages (from altair<5,>=3.2.0->streamlit>=0.63->streamlit-chat) (2.11.3)\n",
      "Requirement already satisfied: toolz in /Users/mohamednoordeenalaudeen/opt/anaconda3/lib/python3.9/site-packages (from altair<5,>=3.2.0->streamlit>=0.63->streamlit-chat) (0.11.2)\n",
      "Requirement already satisfied: gitdb<5,>=4.0.1 in /Users/mohamednoordeenalaudeen/opt/anaconda3/lib/python3.9/site-packages (from gitpython!=3.1.19->streamlit>=0.63->streamlit-chat) (4.0.10)\n",
      "Requirement already satisfied: zipp>=0.5 in /Users/mohamednoordeenalaudeen/opt/anaconda3/lib/python3.9/site-packages (from importlib-metadata>=1.4->streamlit>=0.63->streamlit-chat) (3.8.0)\n",
      "Requirement already satisfied: pyparsing!=3.0.5,>=2.0.2 in /Users/mohamednoordeenalaudeen/opt/anaconda3/lib/python3.9/site-packages (from packaging>=14.1->streamlit>=0.63->streamlit-chat) (3.0.9)\n",
      "Requirement already satisfied: pytz>=2020.1 in /Users/mohamednoordeenalaudeen/opt/anaconda3/lib/python3.9/site-packages (from pandas<2,>=0.25->streamlit>=0.63->streamlit-chat) (2022.1)\n",
      "Requirement already satisfied: six>=1.5 in /Users/mohamednoordeenalaudeen/opt/anaconda3/lib/python3.9/site-packages (from python-dateutil->streamlit>=0.63->streamlit-chat) (1.16.0)\n",
      "Requirement already satisfied: idna<4,>=2.5 in /Users/mohamednoordeenalaudeen/opt/anaconda3/lib/python3.9/site-packages (from requests>=2.4->streamlit>=0.63->streamlit-chat) (3.3)\n",
      "Requirement already satisfied: urllib3<1.27,>=1.21.1 in /Users/mohamednoordeenalaudeen/opt/anaconda3/lib/python3.9/site-packages (from requests>=2.4->streamlit>=0.63->streamlit-chat) (1.26.11)\n",
      "Requirement already satisfied: certifi>=2017.4.17 in /Users/mohamednoordeenalaudeen/opt/anaconda3/lib/python3.9/site-packages (from requests>=2.4->streamlit>=0.63->streamlit-chat) (2022.9.24)\n",
      "Requirement already satisfied: charset-normalizer<3,>=2 in /Users/mohamednoordeenalaudeen/opt/anaconda3/lib/python3.9/site-packages (from requests>=2.4->streamlit>=0.63->streamlit-chat) (2.0.4)\n",
      "Requirement already satisfied: markdown-it-py<3.0.0,>=2.2.0 in /Users/mohamednoordeenalaudeen/opt/anaconda3/lib/python3.9/site-packages (from rich>=10.11.0->streamlit>=0.63->streamlit-chat) (2.2.0)\n",
      "Requirement already satisfied: pygments<3.0.0,>=2.13.0 in /Users/mohamednoordeenalaudeen/opt/anaconda3/lib/python3.9/site-packages (from rich>=10.11.0->streamlit>=0.63->streamlit-chat) (2.14.0)\n",
      "Requirement already satisfied: pytz-deprecation-shim in /Users/mohamednoordeenalaudeen/opt/anaconda3/lib/python3.9/site-packages (from tzlocal>=1.1->streamlit>=0.63->streamlit-chat) (0.1.0.post0)\n",
      "Requirement already satisfied: decorator>=3.4.0 in /Users/mohamednoordeenalaudeen/opt/anaconda3/lib/python3.9/site-packages (from validators>=0.2->streamlit>=0.63->streamlit-chat) (5.1.1)\n",
      "Requirement already satisfied: smmap<6,>=3.0.1 in /Users/mohamednoordeenalaudeen/opt/anaconda3/lib/python3.9/site-packages (from gitdb<5,>=4.0.1->gitpython!=3.1.19->streamlit>=0.63->streamlit-chat) (5.0.0)\n",
      "Requirement already satisfied: MarkupSafe>=0.23 in /Users/mohamednoordeenalaudeen/opt/anaconda3/lib/python3.9/site-packages (from jinja2->altair<5,>=3.2.0->streamlit>=0.63->streamlit-chat) (2.0.1)\n",
      "Requirement already satisfied: pyrsistent!=0.17.0,!=0.17.1,!=0.17.2,>=0.14.0 in /Users/mohamednoordeenalaudeen/opt/anaconda3/lib/python3.9/site-packages (from jsonschema>=3.0->altair<5,>=3.2.0->streamlit>=0.63->streamlit-chat) (0.18.0)\n",
      "Requirement already satisfied: attrs>=17.4.0 in /Users/mohamednoordeenalaudeen/opt/anaconda3/lib/python3.9/site-packages (from jsonschema>=3.0->altair<5,>=3.2.0->streamlit>=0.63->streamlit-chat) (21.4.0)\n",
      "Requirement already satisfied: mdurl~=0.1 in /Users/mohamednoordeenalaudeen/opt/anaconda3/lib/python3.9/site-packages (from markdown-it-py<3.0.0,>=2.2.0->rich>=10.11.0->streamlit>=0.63->streamlit-chat) (0.1.2)\n",
      "Requirement already satisfied: tzdata in /Users/mohamednoordeenalaudeen/opt/anaconda3/lib/python3.9/site-packages (from pytz-deprecation-shim->tzlocal>=1.1->streamlit>=0.63->streamlit-chat) (2022.7)\n"
     ]
    }
   ],
   "source": [
    "!pip install streamlit-chat \n"
   ]
  },
  {
   "cell_type": "code",
   "execution_count": 7,
   "id": "007ce789-4d01-4282-8b30-5660e48745f9",
   "metadata": {},
   "outputs": [],
   "source": [
    "import streamlit as st\n",
    "from streamlit_chat import message\n",
    "\n",
    "message(\"My message\") \n",
    "message(\"Hello bot!\", is_user=True)  # align's the message to the right"
   ]
  },
  {
   "cell_type": "code",
   "execution_count": null,
   "id": "77cd24a8-b16a-4a21-ba64-17a322cd2d58",
   "metadata": {},
   "outputs": [],
   "source": []
  }
 ],
 "metadata": {
  "kernelspec": {
   "display_name": "Python 3 (ipykernel)",
   "language": "python",
   "name": "python3"
  },
  "language_info": {
   "codemirror_mode": {
    "name": "ipython",
    "version": 3
   },
   "file_extension": ".py",
   "mimetype": "text/x-python",
   "name": "python",
   "nbconvert_exporter": "python",
   "pygments_lexer": "ipython3",
   "version": "3.9.13"
  }
 },
 "nbformat": 4,
 "nbformat_minor": 5
}
